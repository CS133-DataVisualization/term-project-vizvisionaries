{
  "cells": [
    {
      "cell_type": "markdown",
      "source": [
        "# Project data exploration II -\n",
        "## plotting categorical plot and incorporating other data\n",
        "\n",
        "---\n",
        "\n",
        "\n",
        "We will continue to work with the dataset that your group is consider for the term project. In this notebook we will create some plot using the Seaborn module and the different categorical plots we practiced in class. Additionally, we will explore the idea of working with other datasets in addition to the one you originally selected to strengthen your argument."
      ],
      "metadata": {
        "id": "G1R_oERWiKtv"
      }
    },
    {
      "cell_type": "markdown",
      "source": [
        "Group name:  \n",
        "Created by NAMES (SJSU IDs)  \n",
        "Last updated: DATE  "
      ],
      "metadata": {
        "id": "Ml3CVbR8iSwb"
      }
    },
    {
      "cell_type": "markdown",
      "source": [
        "### Q1: How clean is your data?  \n",
        "Do you have formatting concerns, null values, inconsistent data, etc... If so, explain what cleaning or reformating you have to do and how you plan to approach this cleaning steps."
      ],
      "metadata": {
        "id": "zmLRl47LAC6C"
      }
    },
    {
      "cell_type": "markdown",
      "metadata": {
        "id": "o67baSkq4odS"
      },
      "source": [
        "### Q2: Create a categorical plot\n",
        "Come up with a unique question that can be answer using a categorical plot from the sns module"
      ]
    },
    {
      "cell_type": "code",
      "source": [
        "# Your code here . . ."
      ],
      "metadata": {
        "id": "xQrjGTZb4rZE"
      },
      "execution_count": null,
      "outputs": []
    },
    {
      "cell_type": "markdown",
      "metadata": {
        "id": "2gBQnPbS4odT"
      },
      "source": [
        "### Q3: Come up with a another unique question. This question must use map() or apply()"
      ]
    },
    {
      "cell_type": "code",
      "source": [
        "# Your code here . . ."
      ],
      "metadata": {
        "id": "iBBfjifl4tWD"
      },
      "execution_count": null,
      "outputs": []
    },
    {
      "cell_type": "markdown",
      "source": [
        "### Q4: Create an interactive plot\n",
        "Create an interactive plot using plotly. Your plot can be a previously asked question or a new question, however explain how this interaction strengthen what you want to communicate with your audience."
      ],
      "metadata": {
        "id": "2QajJFw5j_Oe"
      }
    },
    {
      "cell_type": "code",
      "source": [
        "# Your code here . . ."
      ],
      "metadata": {
        "id": "7jPqoJJdj-M7"
      },
      "execution_count": null,
      "outputs": []
    },
    {
      "cell_type": "markdown",
      "source": [
        "## Q5: Additional datasets and data processing\n",
        "For the questions below you do not need to do the plotting if you have not found another complementary dataset. However, write the psuedocode of how you could go about answering the questions and sketches of what your visualization might be. Answer the following:\n",
        "\n",
        "What additional datasets would you need to find or create to help strengthen your data?\n",
        "How would you combine the dataset?\n",
        "Do you need to reshape your data and how could you go about it?"
      ],
      "metadata": {
        "id": "INxqWvFUCapx"
      }
    },
    {
      "cell_type": "code",
      "source": [
        "# Your code here . . ."
      ],
      "metadata": {
        "id": "Q_HBFKFcCbDp"
      },
      "execution_count": null,
      "outputs": []
    }
  ],
  "metadata": {
    "kernelspec": {
      "display_name": "Python 3",
      "language": "python",
      "name": "python3"
    },
    "language_info": {
      "codemirror_mode": {
        "name": "ipython",
        "version": 3
      },
      "file_extension": ".py",
      "mimetype": "text/x-python",
      "name": "python",
      "nbconvert_exporter": "python",
      "pygments_lexer": "ipython3",
      "version": "3.7.6"
    },
    "colab": {
      "provenance": []
    }
  },
  "nbformat": 4,
  "nbformat_minor": 0
}