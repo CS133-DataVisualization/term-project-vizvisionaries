{
  "cells": [
    {
      "cell_type": "markdown",
      "metadata": {
        "id": "G1R_oERWiKtv"
      },
      "source": [
        "# Project data exploration II -\n",
        "## plotting categorical plot and incorporating other data\n",
        "\n",
        "---\n",
        "\n",
        "\n",
        "We will continue to work with the dataset that your group is consider for the term project. In this notebook we will create some plot using the Seaborn module and the different categorical plots we practiced in class. Additionally, we will explore the idea of working with other datasets in addition to the one you originally selected to strengthen your argument."
      ]
    },
    {
      "cell_type": "markdown",
      "metadata": {
        "id": "Ml3CVbR8iSwb"
      },
      "source": [
        "Group name:  Viz Visionaries  \n",
        "Created by NAMES (SJSU IDs) : 016115515   \n",
        "Last updated: 10/09/2025"
      ]
    },
    {
      "cell_type": "code",
      "execution_count": 2,
      "metadata": {},
      "outputs": [
        {
          "name": "stderr",
          "output_type": "stream",
          "text": [
            "/var/folders/j6/p7vw9cv95dl2js7bnrm6mg100000gn/T/ipykernel_30235/3823594343.py:9: DtypeWarning: Columns (0,19,49,59,118,129,130,131,134,135,136,139,145,146,147) have mixed types. Specify dtype option on import or set low_memory=False.\n",
            "  df = pd.read_csv(data_path)\n"
          ]
        },
        {
          "name": "stdout",
          "output_type": "stream",
          "text": [
            "(2260701, 151)\n"
          ]
        },
        {
          "data": {
            "text/html": [
              "<div>\n",
              "<style scoped>\n",
              "    .dataframe tbody tr th:only-of-type {\n",
              "        vertical-align: middle;\n",
              "    }\n",
              "\n",
              "    .dataframe tbody tr th {\n",
              "        vertical-align: top;\n",
              "    }\n",
              "\n",
              "    .dataframe thead th {\n",
              "        text-align: right;\n",
              "    }\n",
              "</style>\n",
              "<table border=\"1\" class=\"dataframe\">\n",
              "  <thead>\n",
              "    <tr style=\"text-align: right;\">\n",
              "      <th></th>\n",
              "      <th>id</th>\n",
              "      <th>member_id</th>\n",
              "      <th>loan_amnt</th>\n",
              "      <th>funded_amnt</th>\n",
              "      <th>funded_amnt_inv</th>\n",
              "      <th>term</th>\n",
              "      <th>int_rate</th>\n",
              "      <th>installment</th>\n",
              "      <th>grade</th>\n",
              "      <th>sub_grade</th>\n",
              "      <th>...</th>\n",
              "      <th>hardship_payoff_balance_amount</th>\n",
              "      <th>hardship_last_payment_amount</th>\n",
              "      <th>disbursement_method</th>\n",
              "      <th>debt_settlement_flag</th>\n",
              "      <th>debt_settlement_flag_date</th>\n",
              "      <th>settlement_status</th>\n",
              "      <th>settlement_date</th>\n",
              "      <th>settlement_amount</th>\n",
              "      <th>settlement_percentage</th>\n",
              "      <th>settlement_term</th>\n",
              "    </tr>\n",
              "  </thead>\n",
              "  <tbody>\n",
              "    <tr>\n",
              "      <th>0</th>\n",
              "      <td>68407277</td>\n",
              "      <td>NaN</td>\n",
              "      <td>3600.0</td>\n",
              "      <td>3600.0</td>\n",
              "      <td>3600.0</td>\n",
              "      <td>36 months</td>\n",
              "      <td>13.99</td>\n",
              "      <td>123.03</td>\n",
              "      <td>C</td>\n",
              "      <td>C4</td>\n",
              "      <td>...</td>\n",
              "      <td>NaN</td>\n",
              "      <td>NaN</td>\n",
              "      <td>Cash</td>\n",
              "      <td>N</td>\n",
              "      <td>NaN</td>\n",
              "      <td>NaN</td>\n",
              "      <td>NaN</td>\n",
              "      <td>NaN</td>\n",
              "      <td>NaN</td>\n",
              "      <td>NaN</td>\n",
              "    </tr>\n",
              "    <tr>\n",
              "      <th>1</th>\n",
              "      <td>68355089</td>\n",
              "      <td>NaN</td>\n",
              "      <td>24700.0</td>\n",
              "      <td>24700.0</td>\n",
              "      <td>24700.0</td>\n",
              "      <td>36 months</td>\n",
              "      <td>11.99</td>\n",
              "      <td>820.28</td>\n",
              "      <td>C</td>\n",
              "      <td>C1</td>\n",
              "      <td>...</td>\n",
              "      <td>NaN</td>\n",
              "      <td>NaN</td>\n",
              "      <td>Cash</td>\n",
              "      <td>N</td>\n",
              "      <td>NaN</td>\n",
              "      <td>NaN</td>\n",
              "      <td>NaN</td>\n",
              "      <td>NaN</td>\n",
              "      <td>NaN</td>\n",
              "      <td>NaN</td>\n",
              "    </tr>\n",
              "    <tr>\n",
              "      <th>2</th>\n",
              "      <td>68341763</td>\n",
              "      <td>NaN</td>\n",
              "      <td>20000.0</td>\n",
              "      <td>20000.0</td>\n",
              "      <td>20000.0</td>\n",
              "      <td>60 months</td>\n",
              "      <td>10.78</td>\n",
              "      <td>432.66</td>\n",
              "      <td>B</td>\n",
              "      <td>B4</td>\n",
              "      <td>...</td>\n",
              "      <td>NaN</td>\n",
              "      <td>NaN</td>\n",
              "      <td>Cash</td>\n",
              "      <td>N</td>\n",
              "      <td>NaN</td>\n",
              "      <td>NaN</td>\n",
              "      <td>NaN</td>\n",
              "      <td>NaN</td>\n",
              "      <td>NaN</td>\n",
              "      <td>NaN</td>\n",
              "    </tr>\n",
              "    <tr>\n",
              "      <th>3</th>\n",
              "      <td>66310712</td>\n",
              "      <td>NaN</td>\n",
              "      <td>35000.0</td>\n",
              "      <td>35000.0</td>\n",
              "      <td>35000.0</td>\n",
              "      <td>60 months</td>\n",
              "      <td>14.85</td>\n",
              "      <td>829.90</td>\n",
              "      <td>C</td>\n",
              "      <td>C5</td>\n",
              "      <td>...</td>\n",
              "      <td>NaN</td>\n",
              "      <td>NaN</td>\n",
              "      <td>Cash</td>\n",
              "      <td>N</td>\n",
              "      <td>NaN</td>\n",
              "      <td>NaN</td>\n",
              "      <td>NaN</td>\n",
              "      <td>NaN</td>\n",
              "      <td>NaN</td>\n",
              "      <td>NaN</td>\n",
              "    </tr>\n",
              "    <tr>\n",
              "      <th>4</th>\n",
              "      <td>68476807</td>\n",
              "      <td>NaN</td>\n",
              "      <td>10400.0</td>\n",
              "      <td>10400.0</td>\n",
              "      <td>10400.0</td>\n",
              "      <td>60 months</td>\n",
              "      <td>22.45</td>\n",
              "      <td>289.91</td>\n",
              "      <td>F</td>\n",
              "      <td>F1</td>\n",
              "      <td>...</td>\n",
              "      <td>NaN</td>\n",
              "      <td>NaN</td>\n",
              "      <td>Cash</td>\n",
              "      <td>N</td>\n",
              "      <td>NaN</td>\n",
              "      <td>NaN</td>\n",
              "      <td>NaN</td>\n",
              "      <td>NaN</td>\n",
              "      <td>NaN</td>\n",
              "      <td>NaN</td>\n",
              "    </tr>\n",
              "  </tbody>\n",
              "</table>\n",
              "<p>5 rows × 151 columns</p>\n",
              "</div>"
            ],
            "text/plain": [
              "         id  member_id  loan_amnt  funded_amnt  funded_amnt_inv        term  \\\n",
              "0  68407277        NaN     3600.0       3600.0           3600.0   36 months   \n",
              "1  68355089        NaN    24700.0      24700.0          24700.0   36 months   \n",
              "2  68341763        NaN    20000.0      20000.0          20000.0   60 months   \n",
              "3  66310712        NaN    35000.0      35000.0          35000.0   60 months   \n",
              "4  68476807        NaN    10400.0      10400.0          10400.0   60 months   \n",
              "\n",
              "   int_rate  installment grade sub_grade  ... hardship_payoff_balance_amount  \\\n",
              "0     13.99       123.03     C        C4  ...                            NaN   \n",
              "1     11.99       820.28     C        C1  ...                            NaN   \n",
              "2     10.78       432.66     B        B4  ...                            NaN   \n",
              "3     14.85       829.90     C        C5  ...                            NaN   \n",
              "4     22.45       289.91     F        F1  ...                            NaN   \n",
              "\n",
              "  hardship_last_payment_amount disbursement_method  debt_settlement_flag  \\\n",
              "0                          NaN                Cash                     N   \n",
              "1                          NaN                Cash                     N   \n",
              "2                          NaN                Cash                     N   \n",
              "3                          NaN                Cash                     N   \n",
              "4                          NaN                Cash                     N   \n",
              "\n",
              "  debt_settlement_flag_date settlement_status settlement_date  \\\n",
              "0                       NaN               NaN             NaN   \n",
              "1                       NaN               NaN             NaN   \n",
              "2                       NaN               NaN             NaN   \n",
              "3                       NaN               NaN             NaN   \n",
              "4                       NaN               NaN             NaN   \n",
              "\n",
              "  settlement_amount settlement_percentage settlement_term  \n",
              "0               NaN                   NaN             NaN  \n",
              "1               NaN                   NaN             NaN  \n",
              "2               NaN                   NaN             NaN  \n",
              "3               NaN                   NaN             NaN  \n",
              "4               NaN                   NaN             NaN  \n",
              "\n",
              "[5 rows x 151 columns]"
            ]
          },
          "execution_count": 2,
          "metadata": {},
          "output_type": "execute_result"
        }
      ],
      "source": [
        "import pandas as pd\n",
        "import os\n",
        "import seaborn as sns\n",
        "import matplotlib.pyplot as plt\n",
        "\n",
        "# Path to the folder containing the real CSV\n",
        "data_path = \"term_Proj_accepted_2007_to_2018Q4.csv\"\n",
        "\n",
        "df = pd.read_csv(data_path)\n",
        "\n",
        "print(df.shape)\n",
        "df.head()"
      ]
    },
    {
      "cell_type": "markdown",
      "metadata": {
        "id": "zmLRl47LAC6C"
      },
      "source": [
        "### Q1: How clean is your data?  \n",
        "Do you have formatting concerns, null values, inconsistent data, etc... If so, explain what cleaning or reformating you have to do and how you plan to approach this cleaning steps."
      ]
    },
    {
      "cell_type": "markdown",
      "metadata": {},
      "source": [
        "we had a lot of null values so we set a threshold to drop the columns with more than 95% null values. "
      ]
    },
    {
      "cell_type": "code",
      "execution_count": 3,
      "metadata": {},
      "outputs": [],
      "source": [
        "# Drop columns with more than 95% missing\n",
        "threshold = 0.95 * len(df)   # 95% of total rows\n",
        "df = df.dropna(axis=1, thresh=threshold)"
      ]
    },
    {
      "cell_type": "code",
      "execution_count": 4,
      "metadata": {},
      "outputs": [
        {
          "name": "stdout",
          "output_type": "stream",
          "text": [
            "bc_util                    76104\n",
            "percent_bc_gt_75           75412\n",
            "bc_open_to_buy             74968\n",
            "mths_since_recent_bc       73445\n",
            "pct_tl_nvr_dlq             70464\n",
            "                           ...  \n",
            "collection_recovery_fee       33\n",
            "last_pymnt_amnt               33\n",
            "loan_amnt                     33\n",
            "last_fico_range_low           33\n",
            "id                             0\n",
            "Length: 88, dtype: int64\n"
          ]
        }
      ],
      "source": [
        "missing_data = df.isnull().sum().sort_values(ascending=False)\n",
        "print(missing_data)"
      ]
    },
    {
      "cell_type": "markdown",
      "metadata": {
        "id": "o67baSkq4odS"
      },
      "source": [
        "### Q2: Create a categorical plot\n",
        "Come up with a unique question that can be answer using a categorical plot from the sns module"
      ]
    },
    {
      "cell_type": "markdown",
      "metadata": {},
      "source": [
        "How does loan amount vary by grade - Distribution of Loan Amount by Credit Grade"
      ]
    },
    {
      "cell_type": "code",
      "execution_count": 5,
      "metadata": {
        "id": "xQrjGTZb4rZE"
      },
      "outputs": [
        {
          "name": "stderr",
          "output_type": "stream",
          "text": [
            "/var/folders/j6/p7vw9cv95dl2js7bnrm6mg100000gn/T/ipykernel_30235/3680729669.py:2: FutureWarning: \n",
            "\n",
            "Passing `palette` without assigning `hue` is deprecated and will be removed in v0.14.0. Assign the `x` variable to `hue` and set `legend=False` for the same effect.\n",
            "\n",
            "  sns.boxplot(data=df, x=\"grade\", y=\"loan_amnt\", palette=\"Set2\")\n"
          ]
        },
        {
          "data": {
            "image/png": "[encoded data removed]",
            "text/plain": [
              "<Figure size 640x480 with 1 Axes>"
            ]
          },
          "metadata": {},
          "output_type": "display_data"
        }
      ],
      "source": [
        "# Your code here . . .\n",
        "sns.boxplot(data=df, x=\"grade\", y=\"loan_amnt\", palette=\"Set2\")\n",
        "plt.title(\"Distribution of Loan Amount by Credit Grade\")\n",
        "plt.show()\n"
      ]
    },
    {
      "cell_type": "markdown",
      "metadata": {
        "id": "2gBQnPbS4odT"
      },
      "source": [
        "### Q3: Come up with a another unique question. This question must use map() or apply()"
      ]
    },
    {
      "cell_type": "markdown",
      "metadata": {},
      "source": [
        "Do longer-term loans (60 months) have higher average interest rates compared to shorter-term loans (36 months)?  "
      ]
    },
    {
      "cell_type": "code",
      "execution_count": 6,
      "metadata": {
        "id": "iBBfjifl4tWD"
      },
      "outputs": [
        {
          "name": "stderr",
          "output_type": "stream",
          "text": [
            "/var/folders/j6/p7vw9cv95dl2js7bnrm6mg100000gn/T/ipykernel_30235/772196939.py:6: FutureWarning: \n",
            "\n",
            "Passing `palette` without assigning `hue` is deprecated and will be removed in v0.14.0. Assign the `x` variable to `hue` and set `legend=False` for the same effect.\n",
            "\n",
            "  sns.barplot(data=df, x=\"term_months\", y=\"int_rate\", estimator=\"mean\", palette=\"coolwarm\")\n"
          ]
        },
        {
          "data": {
            "text/plain": [
              "Text(0, 0.5, 'Average Interest Rate (%)')"
            ]
          },
          "execution_count": 6,
          "metadata": {},
          "output_type": "execute_result"
        },
        {
          "data": {
            "image/png": "[encoded data removed]",
            "text/plain": [
              "<Figure size 640x480 with 1 Axes>"
            ]
          },
          "metadata": {},
          "output_type": "display_data"
        }
      ],
      "source": [
        "# Your code here . . .\n",
        "# Create a new column using map()\n",
        "df[\"term_months\"] = df[\"term\"].map({\" 36 months\": 36, \" 60 months\": 60})\n",
        "\n",
        "# Plot comparison\n",
        "sns.barplot(data=df, x=\"term_months\", y=\"int_rate\", estimator=\"mean\", palette=\"coolwarm\")\n",
        "plt.title(\"Average Interest Rate by Loan Term Length\")\n",
        "plt.xlabel(\"Loan Term (months)\")\n",
        "plt.ylabel(\"Average Interest Rate (%)\")\n"
      ]
    },
    {
      "cell_type": "markdown",
      "metadata": {
        "id": "2QajJFw5j_Oe"
      },
      "source": [
        "### Q4: Create an interactive plot\n",
        "Create an interactive plot using plotly. Your plot can be a previously asked question or a new question, however explain how this interaction strengthen what you want to communicate with your audience."
      ]
    },
    {
      "cell_type": "code",
      "execution_count": 7,
      "metadata": {},
      "outputs": [
        {
          "name": "stdout",
          "output_type": "stream",
          "text": [
            "Requirement already satisfied: plotly in /opt/anaconda3/lib/python3.12/site-packages (5.24.1)\n",
            "Requirement already satisfied: tenacity>=6.2.0 in /opt/anaconda3/lib/python3.12/site-packages (from plotly) (8.2.3)\n",
            "Requirement already satisfied: packaging in /opt/anaconda3/lib/python3.12/site-packages (from plotly) (24.1)\n"
          ]
        }
      ],
      "source": [
        "!pip install plotly\n"
      ]
    },
    {
      "cell_type": "code",
      "execution_count": 8,
      "metadata": {
        "id": "7jPqoJJdj-M7"
      },
      "outputs": [],
      "source": [
        "# Your code here . . .\n",
        "import plotly.io as pio\n",
        "pio.renderers.default = \"browser\"\n",
        "\n",
        "import plotly.express as px\n",
        "\n",
        "# Create sample data\n",
        "data = {'loan_amnt': [5000, 10000, 15000, 20000, 25000, 12000, 8000, 30000, 4000, 22000],\n",
        "'int_rate': ['10.5%', '13.2%', '9.7%', '15.1%', '17.3%', '11.8%', '12.0%', '14.5%', '8.9%', '16.4%'],\n",
        "'grade': ['A', 'B', 'A', 'C', 'D', 'B', 'C', 'D', 'A', 'E'],\n",
        "'term': ['36 months', '60 months', '36 months', '60 months', '60 months',\n",
        "'36 months', '36 months', '60 months', '36 months', '60 months'],\n",
        "'purpose': ['debt_consolidation', 'credit_card', 'home_improvement', 'car', 'medical',\n",
        "'vacation', 'credit_card', 'car', 'debt_consolidation', 'credit_card']\n",
        "}\n",
        "df = pd.DataFrame(data)\n",
        "\n",
        "# Clean interest rate\n",
        "df['int_rate_num'] = df['int_rate'].str.replace('%', '').astype(float)\n",
        "\n",
        "# Interactive scatter\n",
        "fig = px.scatter(\n",
        "df,\n",
        "x='loan_amnt',\n",
        "y='int_rate_num',\n",
        "color='grade',\n",
        "hover_data=['term', 'purpose'],\n",
        "title='Interactive Plot: Loan Amount vs Interest Rate by Grade'\n",
        ")\n",
        "\n",
        "fig.show()"
      ]
    },
    {
      "cell_type": "markdown",
      "metadata": {
        "id": "INxqWvFUCapx"
      },
      "source": [
        "## Q5: Additional datasets and data processing\n",
        "For the questions below you do not need to do the plotting if you have not found another complementary dataset. However, write the psuedocode of how you could go about answering the questions and sketches of what your visualization might be. Answer the following:\n",
        "\n",
        "What additional datasets would you need to find or create to help strengthen your data?\n",
        "How would you combine the dataset?\n",
        "Do you need to reshape your data and how could you go about it?"
      ]
    },
    {
      "cell_type": "markdown",
      "metadata": {},
      "source": [
        "**Answer:**\n",
        "\n",
        "The lending club dataset provides a good amount of detailed loan-level data. This includes borrower info, loan amounts, interest rates, and etc. However, it seems to lack broader economic or demographic context and material.\n",
        "\n",
        "We are still looking for complementary datasets, however some that stood out was consumer credit trends, and census income and demographics datasets.\n",
        "\n",
        "The pseudo code is below"
      ]
    },
    {
      "cell_type": "code",
      "execution_count": null,
      "metadata": {},
      "outputs": [],
      "source": [
        "# Your code here . . .\n",
        "lc = pd.read_csv(data_path)\n",
        "\n",
        "census = pd.read_csv(\"census_income.csv\")\n",
        "\n",
        "lc['issue_d'] = pd.to_datetime(lc['issue_d'])\n",
        "lc['year'] = lc['issue_d'].dt.year\n",
        "\n",
        "merged = lc.merge(census, how='left', left_on='addr_state', right_on='state')\n",
        "\n",
        "#result: each record would now include the demographic context for the borrower, which can lead to better and more in depth analysis"
      ]
    }
  ],
  "metadata": {
    "colab": {
      "provenance": []
    },
    "kernelspec": {
      "display_name": "Python (MyEnv)",
      "language": "python",
      "name": "myenv"
    },
    "language_info": {
      "codemirror_mode": {
        "name": "ipython",
        "version": 3
      },
      "file_extension": ".py",
      "mimetype": "text/x-python",
      "name": "python",
      "nbconvert_exporter": "python",
      "pygments_lexer": "ipython3",
      "version": "3.12.2"
    }
  },
  "nbformat": 4,
  "nbformat_minor": 0
}
